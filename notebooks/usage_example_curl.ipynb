{
 "cells": [
  {
   "cell_type": "code",
   "execution_count": 4,
   "id": "bee07b3e",
   "metadata": {},
   "outputs": [],
   "source": [
    "import sys\n",
    "sys.path.append('../')\n",
    "import requests\n",
    "import json\n",
    "\n"
   ]
  },
  {
   "cell_type": "code",
   "execution_count": 5,
   "id": "56e1204a",
   "metadata": {},
   "outputs": [],
   "source": [
    "# Define the URL\n",
    "url = \"http://localhost:5001/chat\"\n",
    "\n",
    "# Define the payload (parameters)\n",
    "data = {\n",
    "    \"long_term_objective\": \"Become a machine learning expert\",\n",
    "    \"date_of_achievement\": \"2025-01-01\",\n",
    "    \"area\": \"Machine Learning\"\n",
    "}\n"
   ]
  },
  {
   "cell_type": "code",
   "execution_count": 6,
   "id": "d4772302",
   "metadata": {},
   "outputs": [],
   "source": [
    "response = requests.post(url, json=data)\n"
   ]
  },
  {
   "cell_type": "code",
   "execution_count": 7,
   "id": "0b85a56a",
   "metadata": {},
   "outputs": [
    {
     "name": "stdout",
     "output_type": "stream",
     "text": [
      "{\n",
      "    \"answer\": \"{\\n    \\\"longTermGoal\\\": {\\n        \\\"name\\\": \\\"Become a machine learning expert in the area of Machine Learning\\\",\\n        \\\"dateOfAchievement\\\": \\\"01/01/2025\\\",\\n        \\\"supportSystem\\\": [\\n            \\\"Online courses\\\",\\n            \\\"Books\\\",\\n            \\\"Mentorship program\\\"\\n        ],\\n        \\\"accountabilityPartner\\\": \\\"A fellow machine learning enthusiast\\\",\\n        \\\"mediumTermGoals\\\": [\\n            {\\n                \\\"name\\\": \\\"Complete a machine learning course\\\",\\n                \\\"dateOfAchievement\\\": \\\"01/07/2022\\\",\\n                \\\"supportSystem\\\": [\\n                    \\\"Online course\\\",\\n                    \\\"Study group\\\"\\n                ],\\n                \\\"accountabilityPartner\\\": \\\"A machine learning mentor\\\",\\n                \\\"shortTermGoals\\\": [\\n                    {\\n                        \\\"name\\\": \\\"Complete Week 1 of the course\\\",\\n                        \\\"dateOfAchievement\\\": \\\"01/01/2022\\\",\\n                        \\\"supportSystem\\\": [\\n                            \\\"Online course materials\\\",\\n                            \\\"Study group\\\"\\n                        ],\\n                        \\\"accountabilityPartner\\\": \\\"A machine learning study buddy\\\"\\n                    },\\n                    {\\n                        \\\"name\\\": \\\"Complete Week 2 of the course\\\",\\n                        \\\"dateOfAchievement\\\": \\\"01/08/2022\\\",\\n                        \\\"supportSystem\\\": [\\n                            \\\"Online course materials\\\",\\n                            \\\"Study group\\\"\\n                        ],\\n                        \\\"accountabilityPartner\\\": \\\"A machine learning study buddy\\\"\\n                    },\\n                    {\\n                        \\\"name\\\": \\\"Complete Week 3 of the course\\\",\\n                        \\\"dateOfAchievement\\\": \\\"01/15/2022\\\",\\n                        \\\"supportSystem\\\": [\\n                            \\\"Online course materials\\\",\\n                            \\\"Study group\\\"\\n                        ],\\n                        \\\"accountabilityPartner\\\": \\\"A machine learning study buddy\\\"\\n                    }\\n                ]\\n            },\\n            {\\n                \\\"name\\\": \\\"Build a machine learning project\\\",\\n                \\\"dateOfAchievement\\\": \\\"01/01/2023\\\",\\n                \\\"supportSystem\\\": [\\n                    \\\"Online resources\\\",\\n                    \\\"Mentorship program\\\"\\n                ],\\n                \\\"accountabilityPartner\\\": \\\"A machine learning mentor\\\",\\n                \\\"shortTermGoals\\\": [\\n                    {\\n                        \\\"name\\\": \\\"Choose a machine learning project idea\\\",\\n                        \\\"dateOfAchievement\\\": \\\"01/01/2022\\\",\\n                        \\\"supportSystem\\\": [\\n                            \\\"Online resources\\\",\\n                            \\\"Mentorship program\\\"\\n                        ],\\n                        \\\"accountabilityPartner\\\": \\\"A machine learning mentor\\\"\\n                    },\\n                    {\\n                        \\\"name\\\": \\\"Complete data collection for the project\\\",\\n                        \\\"dateOfAchievement\\\": \\\"01/01/2022\\\",\\n                        \\\"supportSystem\\\": [\\n                            \\\"Online resources\\\",\\n                            \\\"Mentorship program\\\"\\n                        ],\\n                        \\\"accountabilityPartner\\\": \\\"A machine learning mentor\\\"\\n                    },\\n                    {\\n                        \\\"name\\\": \\\"Complete data preprocessing for the project\\\",\\n                        \\\"dateOfAchievement\\\": \\\"01/15/2022\\\",\\n                        \\\"supportSystem\\\": [\\n                            \\\"Online resources\\\",\\n                            \\\"Mentorship program\\\"\\n                        ],\\n                        \\\"accountabilityPartner\\\": \\\"A machine learning mentor\\\"\\n                    }\\n                ]\\n            },\\n            {\\n                \\\"name\\\": \\\"Contribute to a machine learning community\\\",\\n                \\\"dateOfAchievement\\\": \\\"01/01/2024\\\",\\n                \\\"supportSystem\\\": [\\n                    \\\"Online forums\\\",\\n                    \\\"Meetup groups\\\"\\n                ],\\n                \\\"accountabilityPartner\\\": \\\"A machine learning mentor\\\",\\n                \\\"shortTermGoals\\\": [\\n                    {\\n                        \\\"name\\\": \\\"Join a machine learning forum\\\",\\n                        \\\"dateOfAchievement\\\": \\\"01/01/2023\\\",\\n                        \\\"supportSystem\\\": [\\n                            \\\"Online forums\\\",\\n                            \\\"Meetup groups\\\"\\n                        ],\\n                        \\\"accountabilityPartner\\\": \\\"A machine learning mentor\\\"\\n                    },\\n                    {\\n                        \\\"name\\\": \\\"Attend a machine learning meetup\\\",\\n                        \\\"dateOfAchievement\\\": \\\"01/01/2023\\\",\\n                        \\\"supportSystem\\\": [\\n                            \\\"Online forums\\\",\\n                            \\\"Meetup groups\\\"\\n                        ],\\n                        \\\"accountabilityPartner\\\": \\\"A machine learning mentor\\\"\\n                    },\\n                    {\\n                        \\\"name\\\": \\\"Contribute to a machine learning project\\\",\\n                        \\\"dateOfAchievement\\\": \\\"01/01/2024\\\",\\n                        \\\"supportSystem\\\": [\\n                            \\\"Online forums\\\",\\n                            \\\"Meetup groups\\\"\\n                        ],\\n                        \\\"accountabilityPartner\\\": \\\"A machine learning mentor\\\"\\n                    }\\n                ]\\n            }\\n        ]\\n    }\\n}\",\n",
      "    \"conversation_id\": \"884c2940-5f25-4cd8-92f8-f817dd55d84a\",\n",
      "    \"payload\": {\n",
      "        \"area\": \"Machine Learning\",\n",
      "        \"date_of_achievement\": \"2025-01-01\",\n",
      "        \"long_term_objective\": \"Become a machine learning expert\"\n",
      "    }\n",
      "}\n"
     ]
    }
   ],
   "source": [
    "# Check if the request was successful\n",
    "if response.status_code == 200:\n",
    "    # Print the returned data\n",
    "    print(json.dumps(response.json(), indent=4))\n",
    "else:\n",
    "    print(f\"Error {response.status_code}: {response.text}\")\n"
   ]
  },
  {
   "cell_type": "code",
   "execution_count": 13,
   "id": "c367f055",
   "metadata": {},
   "outputs": [],
   "source": [
    "X = json.loads(response.json()[\"answer\"])"
   ]
  },
  {
   "cell_type": "code",
   "execution_count": 15,
   "id": "837b6cb9",
   "metadata": {},
   "outputs": [
    {
     "data": {
      "text/plain": [
       "'Become a machine learning expert in the area of Machine Learning'"
      ]
     },
     "execution_count": 15,
     "metadata": {},
     "output_type": "execute_result"
    }
   ],
   "source": [
    "X[\"longTermGoal\"][\"name\"]"
   ]
  },
  {
   "cell_type": "code",
   "execution_count": null,
   "id": "49d55be8",
   "metadata": {},
   "outputs": [],
   "source": []
  }
 ],
 "metadata": {
  "kernelspec": {
   "display_name": "Python 3",
   "language": "python",
   "name": "python3"
  },
  "language_info": {
   "codemirror_mode": {
    "name": "ipython",
    "version": 3
   },
   "file_extension": ".py",
   "mimetype": "text/x-python",
   "name": "python",
   "nbconvert_exporter": "python",
   "pygments_lexer": "ipython3",
   "version": "3.9.10"
  }
 },
 "nbformat": 4,
 "nbformat_minor": 5
}
