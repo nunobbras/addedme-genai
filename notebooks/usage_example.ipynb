{
 "cells": [
  {
   "cell_type": "code",
   "execution_count": 1,
   "id": "bee07b3e",
   "metadata": {},
   "outputs": [],
   "source": [
    "import sys\n",
    "sys.path.append('../')\n"
   ]
  },
  {
   "cell_type": "code",
   "execution_count": 2,
   "id": "8ac7db34",
   "metadata": {},
   "outputs": [],
   "source": [
    "\n",
    "import os\n",
    "from pathlib import Path\n",
    "from DDChatbot.config import setup_openai, setup_openai_db, topics_dict\n",
    "from DDChatbot.chatbot import ChatClass\n",
    "from dotenv import find_dotenv, load_dotenv"
   ]
  },
  {
   "cell_type": "code",
   "execution_count": 3,
   "id": "38827a1f",
   "metadata": {},
   "outputs": [],
   "source": [
    "load_dotenv()\n",
    "\n",
    "chat = ChatClass(setup_openai())"
   ]
  },
  {
   "cell_type": "code",
   "execution_count": 4,
   "id": "13964635",
   "metadata": {},
   "outputs": [
    {
     "name": "stdout",
     "output_type": "stream",
     "text": [
      "event_name  summarize_and_classify_question  -  2.1226272583007812\n",
      "exception loads:  {\n",
      "    \"longTermGoal\": {\n",
      "        \"name\": \"Build a small house by myself\",\n",
      "        \"dateOfAchievement\": \"31/12/2024\",\n",
      "        \"supportSystem\": [\n",
      "            \"DIY tutorials\",\n",
      "            \"Online forums\",\n",
      "            \"Local hardware store\"\n",
      "        ],\n",
      "        \"accountabilityPartner\": \"A friend who is also interested in DIY projects\",\n",
      "        \"mediumTermGoals\": [\n",
      "            {\n",
      "                \"name\": \"Learn basic carpentry skills\",\n",
      "                \"dateOfAchievement\": \"31/12/2022\",\n",
      "                \"supportSystem\": [\n",
      "                    \"Online courses\",\n",
      "                    \"Local carpentry workshop\",\n",
      "                    \"DIY tutorials\"\n",
      "                ],\n",
      "                \"accountabilityPartner\": \"A carpentry instructor\"\n",
      "                \"shortTermGoals\": [\n",
      "                    {\n",
      "                        \"name\": \"Watch 2 carpentry tutorials per week\",\n",
      "                        \"dateOfAchievement\": \"31/12/2021\",\n",
      "                        \"supportSystem\": [\n",
      "                            \"YouTube channels\",\n",
      "                            \"Online courses\"\n",
      "                        ],\n",
      "                        \"accountabilityPartner\": \"A friend who is also interested in carpentry\"\n",
      "                    },\n",
      "                    {\n",
      "                        \"name\": \"Attend a carpentry workshop\",\n",
      "                        \"dateOfAchievement\": \"31/03/2022\",\n",
      "                        \"supportSystem\": [\n",
      "                            \"Local carpentry workshop\",\n",
      "                            \"Online forums\"\n",
      "                        ],\n",
      "                        \"accountabilityPartner\": \"A carpentry instructor\"\n",
      "                    },\n",
      "                    {\n",
      "                        \"name\": \"Build a small wooden box\",\n",
      "                        \"dateOfAchievement\": \"31/12/2022\",\n",
      "                        \"supportSystem\": [\n",
      "                            \"DIY tutorials\",\n",
      "                            \"Online forums\"\n",
      "                        ],\n",
      "                        \"accountabilityPartner\": \"A friend who is also interested in carpentry\"\n",
      "                    }\n",
      "                ]\n",
      "            },\n",
      "            {\n",
      "                \"name\": \"Save enough money for building materials\",\n",
      "                \"dateOfAchievement\": \"31/12/2023\",\n",
      "                \"supportSystem\": [\n",
      "                    \"Financial planning tools\",\n",
      "                    \"Online budgeting courses\",\n",
      "                    \"Side job\"\n",
      "                ],\n",
      "                \"accountabilityPartner\": \"A financial advisor\",\n",
      "                \"shortTermGoals\": [\n",
      "                    {\n",
      "                        \"name\": \"Create a budget plan\",\n",
      "                        \"dateOfAchievement\": \"31/01/2022\",\n",
      "                        \"supportSystem\": [\n",
      "                            \"Online budgeting courses\",\n",
      "                            \"Financial planning tools\"\n",
      "                        ],\n",
      "                        \"accountabilityPartner\": \"A financial advisor\"\n",
      "                    },\n",
      "                    {\n",
      "                        \"name\": \"Save $500 per month\",\n",
      "                        \"dateOfAchievement\": \"31/12/2023\",\n",
      "                        \"supportSystem\": [\n",
      "                            \"Side job\",\n",
      "                            \"Online budgeting courses\"\n",
      "                        ],\n",
      "                        \"accountabilityPartner\": \"A friend who is also interested in saving money\"\n",
      "                    },\n",
      "                    {\n",
      "                        \"name\": \"Sell unused items for extra cash\",\n",
      "                        \"dateOfAchievement\": \"31/12/2022\",\n",
      "                        \"supportSystem\": [\n",
      "                            \"Online marketplaces\",\n",
      "                            \"DIY tutorials\"\n",
      "                        ],\n",
      "                        \"accountabilityPartner\": \"A friend who is also interested in decluttering\"\n",
      "                    }\n",
      "                ]\n",
      "            },\n",
      "            {\n",
      "                \"name\": \"Find a suitable location for the house\",\n",
      "                \"dateOfAchievement\": \"31/12/2023\",\n",
      "                \"supportSystem\": [\n",
      "                    \"Real estate agents\",\n",
      "                    \"Online property listings\",\n",
      "                    \"Local community groups\"\n",
      "                ],\n",
      "                \"accountabilityPartner\": \"A friend who is also interested in real estate\",\n",
      "                \"shortTermGoals\": [\n",
      "                    {\n",
      "                        \"name\": \"Research potential locations\",\n",
      "                        \"dateOfAchievement\": \"31/03/2022\",\n",
      "                        \"supportSystem\": [\n",
      "                            \"Online property listings\",\n",
      "                            \"Local community groups\"\n",
      "                        ],\n",
      "                        \"accountabilityPartner\": \"A friend who is also interested in real estate\"\n",
      "                    },\n",
      "                    {\n",
      "                        \"name\": \"Visit at least 3 potential locations\",\n",
      "                        \"dateOfAchievement\": \"31/07/2022\",\n",
      "                        \"supportSystem\": [\n",
      "                            \"Real estate agents\",\n",
      "                            \"Online property listings\"\n",
      "                        ],\n",
      "                        \"accountabilityPartner\": \"A friend who is also interested in real estate\"\n",
      "                    },\n",
      "                    {\n",
      "                        \"name\": \"Research local building regulations\",\n",
      "                        \"dateOfAchievement\": \"31/12/2022\",\n",
      "                        \"supportSystem\": [\n",
      "                            \"Local government websites\",\n",
      "                            \"Online forums\"\n",
      "                        ],\n",
      "                        \"accountabilityPartner\": \"A friend who is also interested in real estate\"\n",
      "                    }\n",
      "                ]\n",
      "            }\n",
      "        ]\n",
      "    }\n",
      "}\n",
      "warning  iteration_id does not exist... \n"
     ]
    }
   ],
   "source": [
    "payload={\"long_term_objective\": \"Build a small house by myself\", \"date_of_achievement\": \"31/12/2024\", \"area\": \"Sports\"}\n",
    "response = chat.run(payload={\"long_term_objective\": \"Build a small house by myself\", \"date_of_achievement\": \"31/12/2024\", \"area\": \"Sports\"})"
   ]
  },
  {
   "cell_type": "code",
   "execution_count": 6,
   "id": "40b5aafe",
   "metadata": {},
   "outputs": [
    {
     "data": {
      "text/plain": [
       "'{\\n    \"longTermGoal\": {\\n        \"name\": \"Build a small house by myself\",\\n        \"dateOfAchievement\": \"31/12/2024\",\\n        \"supportSystem\": [\\n            \"DIY tutorials\",\\n            \"Online forums\",\\n            \"Local hardware store\"\\n        ],\\n        \"accountabilityPartner\": \"A friend who is also interested in DIY projects\",\\n        \"mediumTermGoals\": [\\n            {\\n                \"name\": \"Learn basic carpentry skills\",\\n                \"dateOfAchievement\": \"31/12/2022\",\\n                \"supportSystem\": [\\n                    \"Online courses\",\\n                    \"Local carpentry workshop\",\\n                    \"DIY tutorials\"\\n                ],\\n                \"accountabilityPartner\": \"A carpentry instructor\",\\n                \"shortTermGoals\": [\\n                    {\\n                        \"name\": \"Watch 2 carpentry tutorials per week\",\\n                        \"dateOfAchievement\": \"31/12/2021\",\\n                        \"supportSystem\": [\\n                            \"YouTube channels\",\\n                            \"Online courses\"\\n                        ],\\n                        \"accountabilityPartner\": \"A friend who is also interested in carpentry\"\\n                    },\\n                    {\\n                        \"name\": \"Attend a carpentry workshop\",\\n                        \"dateOfAchievement\": \"31/03/2022\",\\n                        \"supportSystem\": [\\n                            \"Local carpentry workshop\",\\n                            \"Online forums\"\\n                        ],\\n                        \"accountabilityPartner\": \"A carpentry instructor\"\\n                    },\\n                    {\\n                        \"name\": \"Build a small wooden box\",\\n                        \"dateOfAchievement\": \"31/12/2022\",\\n                        \"supportSystem\": [\\n                            \"DIY tutorials\",\\n                            \"Online forums\"\\n                        ],\\n                        \"accountabilityPartner\": \"A friend who is also interested in carpentry\"\\n                    }\\n                ]\\n            },\\n            {\\n                \"name\": \"Save enough money for building materials\",\\n                \"dateOfAchievement\": \"31/12/2023\",\\n                \"supportSystem\": [\\n                    \"Financial planning tools\",\\n                    \"Online budgeting courses\",\\n                    \"Side job\"\\n                ],\\n                \"accountabilityPartner\": \"A financial advisor\",\\n                \"shortTermGoals\": [\\n                    {\\n                        \"name\": \"Create a budget plan\",\\n                        \"dateOfAchievement\": \"31/01/2022\",\\n                        \"supportSystem\": [\\n                            \"Online budgeting courses\",\\n                            \"Financial planning tools\"\\n                        ],\\n                        \"accountabilityPartner\": \"A financial advisor\"\\n                    },\\n                    {\\n                        \"name\": \"Save $500 per month\",\\n                        \"dateOfAchievement\": \"31/12/2023\",\\n                        \"supportSystem\": [\\n                            \"Side job\",\\n                            \"Online budgeting courses\"\\n                        ],\\n                        \"accountabilityPartner\": \"A friend who is also interested in saving money\"\\n                    },\\n                    {\\n                        \"name\": \"Sell unused items for extra cash\",\\n                        \"dateOfAchievement\": \"31/12/2022\",\\n                        \"supportSystem\": [\\n                            \"Online marketplaces\",\\n                            \"DIY tutorials\"\\n                        ],\\n                        \"accountabilityPartner\": \"A friend who is also interested in decluttering\"\\n                    }\\n                ]\\n            },\\n            {\\n                \"name\": \"Find a suitable location for the house\",\\n                \"dateOfAchievement\": \"31/12/2023\",\\n                \"supportSystem\": [\\n                    \"Real estate agents\",\\n                    \"Online property listings\",\\n                    \"Local community groups\"\\n                ],\\n                \"accountabilityPartner\": \"A friend who is also interested in real estate\",\\n                \"shortTermGoals\": [\\n                    {\\n                        \"name\": \"Research potential locations\",\\n                        \"dateOfAchievement\": \"31/03/2022\",\\n                        \"supportSystem\": [\\n                            \"Online property listings\",\\n                            \"Local community groups\"\\n                        ],\\n                        \"accountabilityPartner\": \"A friend who is also interested in real estate\"\\n                    },\\n                    {\\n                        \"name\": \"Visit at least 3 potential locations\",\\n                        \"dateOfAchievement\": \"31/07/2022\",\\n                        \"supportSystem\": [\\n                            \"Real estate agents\",\\n                            \"Online property listings\"\\n                        ],\\n                        \"accountabilityPartner\": \"A friend who is also interested in real estate\"\\n                    },\\n                    {\\n                        \"name\": \"Research local building regulations\",\\n                        \"dateOfAchievement\": \"31/12/2022\",\\n                        \"supportSystem\": [\\n                            \"Local government websites\",\\n                            \"Online forums\"\\n                        ],\\n                        \"accountabilityPartner\": \"A friend who is also interested in real estate\"\\n                    }\\n                ]\\n            }\\n        ]\\n    }\\n}'"
      ]
     },
     "execution_count": 6,
     "metadata": {},
     "output_type": "execute_result"
    }
   ],
   "source": []
  },
  {
   "cell_type": "code",
   "execution_count": null,
   "id": "ccdfb294-11ee-44ec-a19c-6a13c277b36d",
   "metadata": {},
   "outputs": [],
   "source": [
    "global time_table\n",
    "time_table = {}\n",
    "mem_state = {}\n",
    "\n",
    "mem_state[\"payload\"] = payload\n",
    "\n",
    "\n",
    "# Ensure a valid conversation_id\n",
    "# chat.conversation_logger.info(\"Checking if conversation_id is valid\")\n",
    "mem_state[\"conversation_id\"] = \"conversation_id\"\n",
    "long_term_objective_OK, answer = chat.guardrails_default(payload[\"long_term_objective\"])\n"
   ]
  },
  {
   "cell_type": "code",
   "execution_count": 19,
   "id": "59ceecf6",
   "metadata": {},
   "outputs": [
    {
     "name": "stdout",
     "output_type": "stream",
     "text": [
      "exception loads error \n"
     ]
    }
   ],
   "source": [
    "import json\n",
    "\n",
    "if long_term_objective_OK != \"True\":\n",
    "    mem_state[\"answer\"] = answer\n",
    "else:    \n",
    "    answer = chat.scope_objective_default(payload)\n",
    "    try:\n",
    "        answer_json = json.loads(answer)\n",
    "    except Exception as e:\n",
    "        print(\"exception loads error \")"
   ]
  },
  {
   "cell_type": "code",
   "execution_count": 82,
   "id": "350e30aa",
   "metadata": {},
   "outputs": [],
   "source": [
    "# val = json.dumps(answer)\n",
    "# val"
   ]
  },
  {
   "cell_type": "code",
   "execution_count": 83,
   "id": "33a07a74",
   "metadata": {},
   "outputs": [],
   "source": [
    "# conversation = []\n",
    "# conversation.append(\n",
    "#     {\n",
    "#         \"role\": \"system\",\n",
    "#         \"content\": (\n",
    "#             \"\"\"Assistant, you respond with corrected JSON strings. Do not include any explanations, Only provide a RFC8259 compliant JSON response\"\"\")\n",
    "\n",
    "#     })\n",
    "\n",
    "# conversation.append(\n",
    "#     {\n",
    "#         \"role\": \"user\",\n",
    "#         \"content\": f\"\"\"{val}\"\"\"\n",
    "#     })\n",
    "\n",
    "# response = chat.openai.ChatCompletion.create(\n",
    "#     engine=\"gpt-35-turbo\",\n",
    "#     messages=conversation,\n",
    "#     temperature=0,\n",
    "#     max_tokens=chat.max_response_tokens,\n",
    "# )"
   ]
  },
  {
   "cell_type": "code",
   "execution_count": 79,
   "id": "ab708e33",
   "metadata": {},
   "outputs": [],
   "source": [
    "# response[\"choices\"][0][\"message\"][\"content\"]\n",
    "# X = json.loads(response[\"choices\"][0][\"message\"][\"content\"])"
   ]
  },
  {
   "cell_type": "code",
   "execution_count": 81,
   "id": "8fd88e1a",
   "metadata": {},
   "outputs": [
    {
     "data": {
      "text/plain": [
       "{'longTermGoal': {'name': 'Build a small house by myself',\n",
       "  'dateOfAchievement': '31/12/2024',\n",
       "  'supportSystem': ['DIY tutorials', 'Online forums', 'Local hardware store'],\n",
       "  'accountabilityPartner': 'A friend who is also interested in DIY projects',\n",
       "  'mediumTermGoals': [{'name': 'Learn basic carpentry skills',\n",
       "    'dateOfAchievement': '31/12/2022',\n",
       "    'supportSystem': ['Online courses',\n",
       "     'Local carpentry workshop',\n",
       "     'DIY tutorials'],\n",
       "    'accountabilityPartner': 'A carpentry instructor',\n",
       "    'shortTermGoals': [{'name': 'Watch 2 carpentry tutorials per week',\n",
       "      'dateOfAchievement': '31/12/2021',\n",
       "      'supportSystem': ['YouTube channels', 'Online courses'],\n",
       "      'accountabilityPartner': 'A friend who is also interested in carpentry'},\n",
       "     {'name': 'Attend a carpentry workshop',\n",
       "      'dateOfAchievement': '31/03/2022',\n",
       "      'supportSystem': ['Local carpentry workshop', 'Online forums'],\n",
       "      'accountabilityPartner': 'A carpentry instructor'},\n",
       "     {'name': 'Build a small wooden box',\n",
       "      'dateOfAchievement': '31/12/2022',\n",
       "      'supportSystem': ['DIY tutorials', 'Online forums'],\n",
       "      'accountabilityPartner': 'A friend who is also interested in carpentry'}]},\n",
       "   {'name': 'Save enough money for building materials',\n",
       "    'dateOfAchievement': '31/12/2023',\n",
       "    'supportSystem': ['Financial planning tools',\n",
       "     'Online budgeting courses',\n",
       "     'Side job'],\n",
       "    'accountabilityPartner': 'A financial advisor',\n",
       "    'shortTermGoals': [{'name': 'Create a budget plan',\n",
       "      'dateOfAchievement': '31/01/2022',\n",
       "      'supportSystem': ['Online budgeting courses',\n",
       "       'Financial planning tools'],\n",
       "      'accountabilityPartner': 'A financial advisor'},\n",
       "     {'name': 'Save $500 per month',\n",
       "      'dateOfAchievement': '31/12/2023',\n",
       "      'supportSystem': ['Side job', 'Online budgeting courses'],\n",
       "      'accountabilityPartner': 'A friend who is also interested in saving money'},\n",
       "     {'name': 'Sell unused items for extra cash',\n",
       "      'dateOfAchievement': '31/12/2022',\n",
       "      'supportSystem': ['Online marketplaces', 'DIY tutorials'],\n",
       "      'accountabilityPartner': 'A friend who is also interested in decluttering'}]},\n",
       "   {'name': 'Find a suitable location for the house',\n",
       "    'dateOfAchievement': '31/12/2023',\n",
       "    'supportSystem': ['Real estate agents',\n",
       "     'Online property listings',\n",
       "     'Local community groups'],\n",
       "    'accountabilityPartner': 'A friend who is also interested in real estate',\n",
       "    'shortTermGoals': [{'name': 'Research potential locations',\n",
       "      'dateOfAchievement': '31/03/2022',\n",
       "      'supportSystem': ['Online property listings', 'Local community groups'],\n",
       "      'accountabilityPartner': 'A friend who is also interested in real estate'},\n",
       "     {'name': 'Visit at least 3 potential locations',\n",
       "      'dateOfAchievement': '31/07/2022',\n",
       "      'supportSystem': ['Real estate agents', 'Online property listings'],\n",
       "      'accountabilityPartner': 'A friend who is also interested in real estate'},\n",
       "     {'name': 'Attend a local community meeting',\n",
       "      'dateOfAchievement': '31/12/2022',\n",
       "      'supportSystem': ['Local community groups', 'Online forums'],\n",
       "      'accountabilityPartner': 'A friend who is also interested in community involvement'}]}]}}"
      ]
     },
     "execution_count": 81,
     "metadata": {},
     "output_type": "execute_result"
    }
   ],
   "source": [
    "X"
   ]
  },
  {
   "cell_type": "code",
   "execution_count": null,
   "id": "8404c83c",
   "metadata": {},
   "outputs": [],
   "source": []
  },
  {
   "cell_type": "code",
   "execution_count": null,
   "id": "82099c52",
   "metadata": {},
   "outputs": [],
   "source": []
  }
 ],
 "metadata": {
  "kernelspec": {
   "display_name": "Python 3",
   "language": "python",
   "name": "python3"
  },
  "language_info": {
   "codemirror_mode": {
    "name": "ipython",
    "version": 3
   },
   "file_extension": ".py",
   "mimetype": "text/x-python",
   "name": "python",
   "nbconvert_exporter": "python",
   "pygments_lexer": "ipython3",
   "version": "3.9.10"
  }
 },
 "nbformat": 4,
 "nbformat_minor": 5
}
